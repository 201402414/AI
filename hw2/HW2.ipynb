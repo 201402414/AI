{
 "cells": [
  {
   "cell_type": "code",
   "execution_count": 21,
   "metadata": {},
   "outputs": [],
   "source": [
    "import numpy as np\n",
    "import pandas as pd\n",
    "import matplotlib.pyplot as plt"
   ]
  },
  {
   "cell_type": "code",
   "execution_count": 22,
   "metadata": {},
   "outputs": [
    {
     "data": {
      "text/plain": [
       "array([['M', 0.35, 0.265, ..., 0.0485, 0.07, 7],\n",
       "       ['F', 0.53, 0.42, ..., 0.1415, 0.21, 9],\n",
       "       ['M', 0.44, 0.365, ..., 0.114, 0.155, 10],\n",
       "       ...,\n",
       "       ['M', 0.6, 0.475, ..., 0.2875, 0.308, 9],\n",
       "       ['F', 0.625, 0.485, ..., 0.261, 0.29600000000000004, 10],\n",
       "       ['M', 0.71, 0.555, ..., 0.3765, 0.495, 12]], dtype=object)"
      ]
     },
     "execution_count": 22,
     "metadata": {},
     "output_type": "execute_result"
    }
   ],
   "source": [
    "data = pd.read_csv(\"abalone.csv\")\n",
    "data = data.to_numpy()\n",
    "data"
   ]
  },
  {
   "cell_type": "code",
   "execution_count": 56,
   "metadata": {},
   "outputs": [],
   "source": [
    "from sklearn.model_selection import train_test_split\n",
    "from sklearn.preprocessing import LabelEncoder\n",
    "\n",
    "datax = data[:,1:9]\n",
    "datay = data[:,0]\n",
    "\n",
    "trainx,testx,trainy,testy = train_test_split(datax,datay,test_size = 0.3)\n",
    "e = LabelEncoder();\n",
    "e.fit(trainy)\n",
    "trainy_e = e.transform(trainy)\n",
    "testy_e = e.transform(testy)\n",
    "\n",
    "# \n",
    "\n",
    "trainy_e = np.reshape(trainy_e,(-1,1)) # 정규화를 위해 모양을 바꿔줌"
   ]
  },
  {
   "cell_type": "code",
   "execution_count": 57,
   "metadata": {},
   "outputs": [
    {
     "data": {
      "text/plain": [
       "MinMaxScaler(copy=True, feature_range=(0, 1))"
      ]
     },
     "execution_count": 57,
     "metadata": {},
     "output_type": "execute_result"
    }
   ],
   "source": [
    "from sklearn.preprocessing import MinMaxScaler\n",
    "Scaler = MinMaxScaler()\n",
    "Scaler.fit(trainx)\n",
    "Scaler.fit(trainy_e)c\n"
   ]
  },
  {
   "cell_type": "code",
   "execution_count": 59,
   "metadata": {},
   "outputs": [
    {
     "name": "stderr",
     "output_type": "stream",
     "text": [
      "C:\\Users\\micke\\Anaconda3\\lib\\site-packages\\sklearn\\neural_network\\multilayer_perceptron.py:921: DataConversionWarning: A column-vector y was passed when a 1d array was expected. Please change the shape of y to (n_samples, ), for example using ravel().\n",
      "  y = column_or_1d(y, warn=True)\n"
     ]
    }
   ],
   "source": [
    "from sklearn.neural_network import MLPClassifier\n",
    "clf = MLPClassifier(hidden_layer_sizes=(800,))\n",
    "clf.fit(trainx,trainy_e)\n",
    "testy_hat = clf.predict(testx) "
   ]
  },
  {
   "cell_type": "code",
   "execution_count": 60,
   "metadata": {},
   "outputs": [
    {
     "name": "stdout",
     "output_type": "stream",
     "text": [
      "0.5522745411013568\n"
     ]
    }
   ],
   "source": [
    "dif = testy_e - testy_hat\n",
    "accuracy = 1 - (np.size(np.where(dif != 0))/np.size(testy_e))\n",
    "print(accuracy) \n"
   ]
  },
  {
   "cell_type": "code",
   "execution_count": 70,
   "metadata": {},
   "outputs": [],
   "source": [
    "import tensorflow as tf\n",
    "import keras\n",
    "from keras import layers, models, optimizers\n",
    "from tensorflow.keras.models import Sequential\n",
    "from keras.utils import to_categorical"
   ]
  },
  {
   "cell_type": "code",
   "execution_count": 87,
   "metadata": {},
   "outputs": [],
   "source": [
    "input_shape = (8,)\n",
    "\n",
    "mlp_model = models.Sequential()\n",
    "mlp_model.add(layers.Dense(units = 600, activation = 'relu', input_shape=input_shape))\n",
    "mlp_model.add(layers.Dense(units = 1200, activation = 'relu'))\n",
    "mlp_model.add(layers.Dense(units = 600, activation = 'relu'))\n",
    "mlp_model.add(layers.Dense(units = 3, activation = 'softmax'))\n",
    "\n",
    "mlp_model.compile(optimizer='Adam', loss = 'sparse_categorical_crossentropy', metrics=['accuracy'])"
   ]
  },
  {
   "cell_type": "code",
   "execution_count": 88,
   "metadata": {},
   "outputs": [
    {
     "name": "stdout",
     "output_type": "stream",
     "text": [
      "_________________________________________________________________\n",
      "Layer (type)                 Output Shape              Param #   \n",
      "=================================================================\n",
      "dense_21 (Dense)             (None, 600)               5400      \n",
      "_________________________________________________________________\n",
      "dense_22 (Dense)             (None, 1200)              721200    \n",
      "_________________________________________________________________\n",
      "dense_23 (Dense)             (None, 600)               720600    \n",
      "_________________________________________________________________\n",
      "dense_24 (Dense)             (None, 3)                 1803      \n",
      "=================================================================\n",
      "Total params: 1,449,003\n",
      "Trainable params: 1,449,003\n",
      "Non-trainable params: 0\n",
      "_________________________________________________________________\n"
     ]
    }
   ],
   "source": [
    "mlp_model.summary()"
   ]
  },
  {
   "cell_type": "code",
   "execution_count": 89,
   "metadata": {},
   "outputs": [
    {
     "name": "stdout",
     "output_type": "stream",
     "text": [
      "Train on 2923 samples, validate on 1253 samples\n",
      "Epoch 1/50\n",
      "2923/2923 [==============================] - 2s 739us/step - loss: 1.2830 - acc: 0.3360 - val_loss: 1.0724 - val_acc: 0.4637\n",
      "Epoch 2/50\n",
      "2923/2923 [==============================] - 1s 209us/step - loss: 1.0677 - acc: 0.3958 - val_loss: 1.0370 - val_acc: 0.3615\n",
      "Epoch 3/50\n",
      "2923/2923 [==============================] - 1s 211us/step - loss: 1.0207 - acc: 0.4270 - val_loss: 0.9737 - val_acc: 0.4892\n",
      "Epoch 4/50\n",
      "2923/2923 [==============================] - 1s 212us/step - loss: 0.9563 - acc: 0.4995 - val_loss: 0.9107 - val_acc: 0.5339\n",
      "Epoch 5/50\n",
      "2923/2923 [==============================] - 1s 218us/step - loss: 0.9509 - acc: 0.4940 - val_loss: 0.8945 - val_acc: 0.5156\n",
      "Epoch 6/50\n",
      "2923/2923 [==============================] - 1s 213us/step - loss: 0.9276 - acc: 0.5077 - val_loss: 0.8833 - val_acc: 0.5531\n",
      "Epoch 7/50\n",
      "2923/2923 [==============================] - 1s 211us/step - loss: 0.9080 - acc: 0.5255 - val_loss: 0.8715 - val_acc: 0.5267\n",
      "Epoch 8/50\n",
      "2923/2923 [==============================] - 1s 217us/step - loss: 0.8931 - acc: 0.5214 - val_loss: 0.8653 - val_acc: 0.5267\n",
      "Epoch 9/50\n",
      "2923/2923 [==============================] - 1s 214us/step - loss: 0.8820 - acc: 0.5323 - val_loss: 0.8713 - val_acc: 0.5243\n",
      "Epoch 10/50\n",
      "2923/2923 [==============================] - 1s 219us/step - loss: 0.8811 - acc: 0.5361 - val_loss: 0.8579 - val_acc: 0.5355\n",
      "Epoch 11/50\n",
      "2923/2923 [==============================] - 1s 218us/step - loss: 0.8964 - acc: 0.5228 - val_loss: 0.8551 - val_acc: 0.5531\n",
      "Epoch 12/50\n",
      "2923/2923 [==============================] - 1s 218us/step - loss: 0.8967 - acc: 0.5306 - val_loss: 0.8746 - val_acc: 0.5267\n",
      "Epoch 13/50\n",
      "2923/2923 [==============================] - 1s 226us/step - loss: 0.8896 - acc: 0.5221 - val_loss: 0.8630 - val_acc: 0.5235\n",
      "Epoch 14/50\n",
      "2923/2923 [==============================] - 1s 217us/step - loss: 0.8821 - acc: 0.5265 - val_loss: 0.8577 - val_acc: 0.5499\n",
      "Epoch 15/50\n",
      "2923/2923 [==============================] - 1s 213us/step - loss: 0.8760 - acc: 0.5316 - val_loss: 0.8490 - val_acc: 0.5435\n",
      "Epoch 16/50\n",
      "2923/2923 [==============================] - 1s 235us/step - loss: 0.8831 - acc: 0.5310 - val_loss: 0.8670 - val_acc: 0.5523\n",
      "Epoch 17/50\n",
      "2923/2923 [==============================] - 1s 218us/step - loss: 0.8741 - acc: 0.5183 - val_loss: 0.8732 - val_acc: 0.5443\n",
      "Epoch 18/50\n",
      "2923/2923 [==============================] - 1s 212us/step - loss: 0.8774 - acc: 0.5228 - val_loss: 0.8477 - val_acc: 0.5204\n",
      "Epoch 19/50\n",
      "2923/2923 [==============================] - 1s 210us/step - loss: 0.8687 - acc: 0.5316 - val_loss: 0.8443 - val_acc: 0.5531\n",
      "Epoch 20/50\n",
      "2923/2923 [==============================] - 1s 213us/step - loss: 0.8665 - acc: 0.5399 - val_loss: 0.8456 - val_acc: 0.5475\n",
      "Epoch 21/50\n",
      "2923/2923 [==============================] - 1s 220us/step - loss: 0.8809 - acc: 0.5286 - val_loss: 0.8533 - val_acc: 0.5507\n",
      "Epoch 22/50\n",
      "2923/2923 [==============================] - 1s 219us/step - loss: 0.8865 - acc: 0.5316 - val_loss: 0.8456 - val_acc: 0.5563\n",
      "Epoch 23/50\n",
      "2923/2923 [==============================] - 1s 228us/step - loss: 0.8691 - acc: 0.5340 - val_loss: 0.8430 - val_acc: 0.5363\n",
      "Epoch 24/50\n",
      "2923/2923 [==============================] - 1s 214us/step - loss: 0.8677 - acc: 0.5388 - val_loss: 0.8437 - val_acc: 0.5523\n",
      "Epoch 25/50\n",
      "2923/2923 [==============================] - 1s 236us/step - loss: 0.8644 - acc: 0.5299 - val_loss: 0.8528 - val_acc: 0.5499\n",
      "Epoch 26/50\n",
      "2923/2923 [==============================] - 1s 217us/step - loss: 0.8775 - acc: 0.5429 - val_loss: 0.8510 - val_acc: 0.5563\n",
      "Epoch 27/50\n",
      "2923/2923 [==============================] - 1s 212us/step - loss: 0.8757 - acc: 0.5255 - val_loss: 0.8622 - val_acc: 0.5491\n",
      "Epoch 28/50\n",
      "2923/2923 [==============================] - 1s 213us/step - loss: 0.8658 - acc: 0.5429 - val_loss: 0.8406 - val_acc: 0.5539\n",
      "Epoch 29/50\n",
      "2923/2923 [==============================] - 1s 236us/step - loss: 0.8638 - acc: 0.5388 - val_loss: 0.8504 - val_acc: 0.5491\n",
      "Epoch 30/50\n",
      "2923/2923 [==============================] - 1s 216us/step - loss: 0.8661 - acc: 0.5399 - val_loss: 0.8488 - val_acc: 0.5331\n",
      "Epoch 31/50\n",
      "2923/2923 [==============================] - 1s 214us/step - loss: 0.8655 - acc: 0.5334 - val_loss: 0.8383 - val_acc: 0.5355\n",
      "Epoch 32/50\n",
      "2923/2923 [==============================] - 1s 208us/step - loss: 0.8603 - acc: 0.5327 - val_loss: 0.8481 - val_acc: 0.5595\n",
      "Epoch 33/50\n",
      "2923/2923 [==============================] - 1s 218us/step - loss: 0.8600 - acc: 0.5474 - val_loss: 0.8381 - val_acc: 0.5555\n",
      "Epoch 34/50\n",
      "2923/2923 [==============================] - 1s 230us/step - loss: 0.8636 - acc: 0.5412 - val_loss: 0.8445 - val_acc: 0.5323\n",
      "Epoch 35/50\n",
      "2923/2923 [==============================] - 1s 209us/step - loss: 0.8592 - acc: 0.5440 - val_loss: 0.8414 - val_acc: 0.5523\n",
      "Epoch 36/50\n",
      "2923/2923 [==============================] - 1s 212us/step - loss: 0.8644 - acc: 0.5416 - val_loss: 0.8387 - val_acc: 0.5243\n",
      "Epoch 37/50\n",
      "2923/2923 [==============================] - 1s 235us/step - loss: 0.8561 - acc: 0.5371 - val_loss: 0.8332 - val_acc: 0.5555\n",
      "Epoch 38/50\n",
      "2923/2923 [==============================] - 1s 215us/step - loss: 0.8563 - acc: 0.5334 - val_loss: 0.8314 - val_acc: 0.5499\n",
      "Epoch 39/50\n",
      "2923/2923 [==============================] - 1s 232us/step - loss: 0.8567 - acc: 0.5371 - val_loss: 0.8357 - val_acc: 0.5611\n",
      "Epoch 40/50\n",
      "2923/2923 [==============================] - 1s 215us/step - loss: 0.8600 - acc: 0.5429 - val_loss: 0.8323 - val_acc: 0.5555\n",
      "Epoch 41/50\n",
      "2923/2923 [==============================] - 1s 229us/step - loss: 0.8603 - acc: 0.5371 - val_loss: 0.8341 - val_acc: 0.5491\n",
      "Epoch 42/50\n",
      "2923/2923 [==============================] - 1s 213us/step - loss: 0.8588 - acc: 0.5446 - val_loss: 0.8359 - val_acc: 0.5363\n",
      "Epoch 43/50\n",
      "2923/2923 [==============================] - 1s 219us/step - loss: 0.8556 - acc: 0.5388 - val_loss: 0.8294 - val_acc: 0.5595\n",
      "Epoch 44/50\n",
      "2923/2923 [==============================] - 1s 218us/step - loss: 0.8562 - acc: 0.5409 - val_loss: 0.8376 - val_acc: 0.5555\n",
      "Epoch 45/50\n",
      "2923/2923 [==============================] - 1s 226us/step - loss: 0.8554 - acc: 0.5399 - val_loss: 0.8456 - val_acc: 0.5515\n",
      "Epoch 46/50\n",
      "2923/2923 [==============================] - 1s 222us/step - loss: 0.8585 - acc: 0.5453 - val_loss: 0.8352 - val_acc: 0.5595\n",
      "Epoch 47/50\n",
      "2923/2923 [==============================] - 1s 223us/step - loss: 0.8645 - acc: 0.5429 - val_loss: 0.8317 - val_acc: 0.5611\n",
      "Epoch 48/50\n",
      "2923/2923 [==============================] - 1s 207us/step - loss: 0.8634 - acc: 0.5416 - val_loss: 0.8354 - val_acc: 0.5603\n",
      "Epoch 49/50\n",
      "2923/2923 [==============================] - 1s 215us/step - loss: 0.8659 - acc: 0.5375 - val_loss: 0.8375 - val_acc: 0.5515\n",
      "Epoch 50/50\n",
      "2923/2923 [==============================] - 1s 215us/step - loss: 0.8580 - acc: 0.5306 - val_loss: 0.8326 - val_acc: 0.5355\n"
     ]
    }
   ],
   "source": [
    "history = mlp_model.fit(trainx,trainy_e, validation_data= [testx,testy_e], batch_size= 250, epochs= 50)\n"
   ]
  },
  {
   "cell_type": "code",
   "execution_count": 91,
   "metadata": {},
   "outputs": [
    {
     "data": {
      "image/png": "[encoded data removed]",
      "text/plain": [
       "<Figure size 432x288 with 1 Axes>"
      ]
     },
     "metadata": {
      "needs_background": "light"
     },
     "output_type": "display_data"
    },
    {
     "data": {
      "image/png": "[encoded data removed]",
      "text/plain": [
       "<Figure size 432x288 with 1 Axes>"
      ]
     },
     "metadata": {
      "needs_background": "light"
     },
     "output_type": "display_data"
    }
   ],
   "source": [
    "plt.plot(history.history['acc'])\n",
    "    plt.plot(history.history['val_acc'])\n",
    "plt.title('model accuracy')\n",
    "plt.ylabel('accuracy')\n",
    "plt.xlabel('epoch')\n",
    "plt.legend(['train', 'test'], loc='upper left')\n",
    "plt.show()\n",
    "# summarize history for loss\n",
    "plt.plot(history.history['loss'])\n",
    "plt.plot(history.history['val_loss'])\n",
    "plt.title('model loss')\n",
    "plt.ylabel('loss')\n",
    "plt.xlabel('epoch')\n",
    "plt.legend(['train', 'test'], loc='upper left')\n",
    "plt.show()"
   ]
  },
  {
   "cell_type": "code",
   "execution_count": 92,
   "metadata": {},
   "outputs": [
    {
     "data": {
      "text/plain": [
       "0.5610534757114085"
      ]
     },
     "execution_count": 92,
     "metadata": {},
     "output_type": "execute_result"
    }
   ],
   "source": [
    "max(history.history['val_acc']) "
   ]
  }
 ],
 "metadata": {
  "kernelspec": {
   "display_name": "Python 3",
   "language": "python",
   "name": "python3"
  },
  "language_info": {
   "codemirror_mode": {
    "name": "ipython",
    "version": 3
   },
   "file_extension": ".py",
   "mimetype": "text/x-python",
   "name": "python",
   "nbconvert_exporter": "python",
   "pygments_lexer": "ipython3",
   "version": "3.7.4"
  }
 },
 "nbformat": 4,
 "nbformat_minor": 2
}
