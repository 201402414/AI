{
 "cells": [
  {
   "cell_type": "code",
   "execution_count": 1,
   "metadata": {},
   "outputs": [
    {
     "name": "stderr",
     "output_type": "stream",
     "text": [
      "Using TensorFlow backend.\n"
     ]
    }
   ],
   "source": [
    "import numpy as np\n",
    "import pandas as pd\n",
    "import matplotlib.pyplot as plt\n",
    "%matplotlib inline\n",
    "\n",
    "from os.path import join\n",
    "\n",
    "import tensorflow as tf\n",
    "import keras\n",
    "from keras import layers, models, optimizers\n",
    "from keras.utils import to_categorical"
   ]
  },
  {
   "cell_type": "code",
   "execution_count": 2,
   "metadata": {},
   "outputs": [],
   "source": [
    "datax = np.load(join('MNIST.npy'))\n",
    "datay = np.load(join('Label.npy'))"
   ]
  },
  {
   "cell_type": "code",
   "execution_count": 3,
   "metadata": {},
   "outputs": [
    {
     "name": "stdout",
     "output_type": "stream",
     "text": [
      "최대 : 1.0, 최소 : 0.0\n"
     ]
    }
   ],
   "source": [
    "datax_norm = datax/255\n",
    "print('최대 : {}, 최소 : {}' .format(np.max(datax_norm), np.min(datax_norm)))"
   ]
  },
  {
   "cell_type": "code",
   "execution_count": 4,
   "metadata": {},
   "outputs": [
    {
     "name": "stdout",
     "output_type": "stream",
     "text": [
      "[5 0 4 1 9 2 1 3 1 4]\n",
      "[[0. 0. 0. 0. 0. 1. 0. 0. 0. 0.]\n",
      " [1. 0. 0. 0. 0. 0. 0. 0. 0. 0.]\n",
      " [0. 0. 0. 0. 1. 0. 0. 0. 0. 0.]\n",
      " [0. 1. 0. 0. 0. 0. 0. 0. 0. 0.]\n",
      " [0. 0. 0. 0. 0. 0. 0. 0. 0. 1.]\n",
      " [0. 0. 1. 0. 0. 0. 0. 0. 0. 0.]\n",
      " [0. 1. 0. 0. 0. 0. 0. 0. 0. 0.]\n",
      " [0. 0. 0. 1. 0. 0. 0. 0. 0. 0.]\n",
      " [0. 1. 0. 0. 0. 0. 0. 0. 0. 0.]\n",
      " [0. 0. 0. 0. 1. 0. 0. 0. 0. 0.]]\n"
     ]
    }
   ],
   "source": [
    "datay_onehot = to_categorical(datay)\n",
    "print(datay[0:10])\n",
    "print(datay_onehot[0:10,:])\n",
    "# "
   ]
  },
  {
   "cell_type": "code",
   "execution_count": 5,
   "metadata": {},
   "outputs": [
    {
     "name": "stdout",
     "output_type": "stream",
     "text": [
      "(42000, 28, 28)\n",
      "(18000, 28, 28)\n",
      "(42000, 10)\n",
      "(28, 28)\n"
     ]
    }
   ],
   "source": [
    "from sklearn.model_selection import train_test_split\n",
    "trnx, tstx, trny, tsty = train_test_split(datax_norm, datay_onehot, test_size=0.3, random_state=111)\n",
    "print(trnx.shape)\n",
    "print(tstx.shape)\n",
    "print(trny.shape)\n",
    "print(trnx[0].shape)\n",
    "#7:3으로 나눔 "
   ]
  },
  {
   "cell_type": "code",
   "execution_count": 6,
   "metadata": {},
   "outputs": [
    {
     "name": "stdout",
     "output_type": "stream",
     "text": [
      "WARNING:tensorflow:From C:\\Users\\micke\\Anaconda3\\lib\\site-packages\\tensorflow\\python\\framework\\op_def_library.py:263: colocate_with (from tensorflow.python.framework.ops) is deprecated and will be removed in a future version.\n",
      "Instructions for updating:\n",
      "Colocations handled automatically by placer.\n",
      "WARNING:tensorflow:From C:\\Users\\micke\\Anaconda3\\lib\\site-packages\\keras\\backend\\tensorflow_backend.py:3445: calling dropout (from tensorflow.python.ops.nn_ops) with keep_prob is deprecated and will be removed in a future version.\n",
      "Instructions for updating:\n",
      "Please use `rate` instead of `keep_prob`. Rate should be set to `rate = 1 - keep_prob`.\n"
     ]
    }
   ],
   "source": [
    "input_shape = (28,28,1)\n",
    "#3차원으로 바꾸기 위해\n",
    "cnn_model = models.Sequential()\n",
    "\n",
    "cnn_model.add(layers.Conv2D(12, (2,2), padding='same', input_shape=input_shape))\n",
    "cnn_model.add(layers.BatchNormalization()) #배치 정규화 시키는 층 추가\n",
    "cnn_model.add(layers.Activation(\"elu\")) # elu 층 추가\n",
    "cnn_model.add(layers.MaxPooling2D((2,2))) \n",
    "\n",
    "cnn_model.add(layers.Conv2D(24, (2,2), padding='same'))\n",
    "cnn_model.add(layers.BatchNormalization())\n",
    "cnn_model.add(layers.Activation(\"sigmoid\"))\n",
    "cnn_model.add(layers.Dropout(0.2))\n",
    "cnn_model.add(layers.MaxPooling2D((2,2)))\n",
    "\n",
    "cnn_model.add(layers.Flatten())\n",
    "\n",
    "cnn_model.add(layers.Dense(units = 128, activation = \"relu\"))\n",
    "cnn_model.add(layers.Dense(units = 10, activation =  \"softmax\"))\n",
    "\n",
    "cnn_model.compile(optimizer='Adam', loss = 'categorical_crossentropy', metrics=['accuracy'])"
   ]
  },
  {
   "cell_type": "code",
   "execution_count": 7,
   "metadata": {},
   "outputs": [
    {
     "name": "stdout",
     "output_type": "stream",
     "text": [
      "(42000, 28, 28, 1)\n"
     ]
    }
   ],
   "source": [
    "trnx_reshape = trnx.reshape(-1,28,28,1)\n",
    "tstx_reshape = tstx.reshape(-1,28,28,1)\n",
    "print(trnx_reshape.shape)\n",
    "# 이미지인식, 이미지처리 하는데 많이 쓴다고 한다."
   ]
  },
  {
   "cell_type": "code",
   "execution_count": 8,
   "metadata": {},
   "outputs": [
    {
     "name": "stdout",
     "output_type": "stream",
     "text": [
      "WARNING:tensorflow:From C:\\Users\\micke\\Anaconda3\\lib\\site-packages\\tensorflow\\python\\ops\\math_ops.py:3066: to_int32 (from tensorflow.python.ops.math_ops) is deprecated and will be removed in a future version.\n",
      "Instructions for updating:\n",
      "Use tf.cast instead.\n",
      "Train on 42000 samples, validate on 18000 samples\n",
      "Epoch 1/30\n",
      "42000/42000 [==============================] - 41s 965us/step - loss: 2.0579 - acc: 0.3478 - val_loss: 1.6832 - val_acc: 0.6597\n",
      "Epoch 2/30\n",
      "42000/42000 [==============================] - 47s 1ms/step - loss: 1.3183 - acc: 0.7057 - val_loss: 1.1521 - val_acc: 0.7907\n",
      "Epoch 3/30\n",
      "42000/42000 [==============================] - 42s 1ms/step - loss: 0.8723 - acc: 0.8105 - val_loss: 0.8164 - val_acc: 0.8383\n",
      "Epoch 4/30\n",
      "42000/42000 [==============================] - 47s 1ms/step - loss: 0.6230 - acc: 0.8558 - val_loss: 0.6293 - val_acc: 0.8746\n",
      "Epoch 5/30\n",
      "42000/42000 [==============================] - 45s 1ms/step - loss: 0.4778 - acc: 0.8852 - val_loss: 0.5020 - val_acc: 0.8970\n",
      "Epoch 6/30\n",
      "42000/42000 [==============================] - 49s 1ms/step - loss: 0.3862 - acc: 0.9063 - val_loss: 0.4202 - val_acc: 0.9101\n",
      "Epoch 7/30\n",
      "42000/42000 [==============================] - 54s 1ms/step - loss: 0.3254 - acc: 0.9203 - val_loss: 0.3690 - val_acc: 0.9189\n",
      "Epoch 8/30\n",
      "42000/42000 [==============================] - 52s 1ms/step - loss: 0.2820 - acc: 0.9288 - val_loss: 0.3224 - val_acc: 0.9279\n",
      "Epoch 9/30\n",
      "42000/42000 [==============================] - 51s 1ms/step - loss: 0.2506 - acc: 0.9356 - val_loss: 0.3055 - val_acc: 0.9274\n",
      "Epoch 10/30\n",
      "42000/42000 [==============================] - 51s 1ms/step - loss: 0.2287 - acc: 0.9392 - val_loss: 0.3003 - val_acc: 0.9248\n",
      "Epoch 11/30\n",
      "42000/42000 [==============================] - 49s 1ms/step - loss: 0.2069 - acc: 0.9441 - val_loss: 0.2663 - val_acc: 0.9337\n",
      "Epoch 12/30\n",
      "42000/42000 [==============================] - 47s 1ms/step - loss: 0.1925 - acc: 0.9480 - val_loss: 0.2552 - val_acc: 0.9345\n",
      "Epoch 13/30\n",
      "42000/42000 [==============================] - 51s 1ms/step - loss: 0.1785 - acc: 0.9519 - val_loss: 0.2505 - val_acc: 0.9326\n",
      "Epoch 14/30\n",
      "42000/42000 [==============================] - 50s 1ms/step - loss: 0.1692 - acc: 0.9532 - val_loss: 0.2000 - val_acc: 0.9504\n",
      "Epoch 15/30\n",
      "42000/42000 [==============================] - 45s 1ms/step - loss: 0.1588 - acc: 0.9566 - val_loss: 0.1978 - val_acc: 0.9485\n",
      "Epoch 16/30\n",
      "42000/42000 [==============================] - 45s 1ms/step - loss: 0.1498 - acc: 0.9587 - val_loss: 0.1699 - val_acc: 0.9589\n",
      "Epoch 17/30\n",
      "42000/42000 [==============================] - 46s 1ms/step - loss: 0.1422 - acc: 0.9600 - val_loss: 0.1650 - val_acc: 0.9596\n",
      "Epoch 18/30\n",
      "42000/42000 [==============================] - 46s 1ms/step - loss: 0.1369 - acc: 0.9618 - val_loss: 0.1568 - val_acc: 0.9612\n",
      "Epoch 19/30\n",
      "42000/42000 [==============================] - 48s 1ms/step - loss: 0.1285 - acc: 0.9647 - val_loss: 0.1528 - val_acc: 0.9638\n",
      "Epoch 20/30\n",
      "42000/42000 [==============================] - 56s 1ms/step - loss: 0.1253 - acc: 0.9651 - val_loss: 0.1448 - val_acc: 0.9647\n",
      "Epoch 21/30\n",
      "42000/42000 [==============================] - 55s 1ms/step - loss: 0.1202 - acc: 0.9658 - val_loss: 0.1402 - val_acc: 0.9660\n",
      "Epoch 22/30\n",
      "42000/42000 [==============================] - 53s 1ms/step - loss: 0.1149 - acc: 0.9674 - val_loss: 0.1435 - val_acc: 0.9648\n",
      "Epoch 23/30\n",
      "42000/42000 [==============================] - 51s 1ms/step - loss: 0.1123 - acc: 0.9679 - val_loss: 0.1411 - val_acc: 0.9653\n",
      "Epoch 24/30\n",
      "42000/42000 [==============================] - 49s 1ms/step - loss: 0.1097 - acc: 0.9687 - val_loss: 0.1561 - val_acc: 0.9619\n",
      "Epoch 25/30\n",
      "42000/42000 [==============================] - 49s 1ms/step - loss: 0.1057 - acc: 0.9703 - val_loss: 0.1446 - val_acc: 0.9643\n",
      "Epoch 26/30\n",
      "42000/42000 [==============================] - 49s 1ms/step - loss: 0.1031 - acc: 0.9706 - val_loss: 0.1202 - val_acc: 0.9698\n",
      "Epoch 27/30\n",
      "42000/42000 [==============================] - 53s 1ms/step - loss: 0.0999 - acc: 0.9709 - val_loss: 0.1336 - val_acc: 0.9641\n",
      "Epoch 28/30\n",
      "42000/42000 [==============================] - 50s 1ms/step - loss: 0.0971 - acc: 0.9722 - val_loss: 0.1424 - val_acc: 0.9604\n",
      "Epoch 29/30\n",
      "42000/42000 [==============================] - 51s 1ms/step - loss: 0.0949 - acc: 0.9730 - val_loss: 0.1593 - val_acc: 0.9542\n",
      "Epoch 30/30\n",
      "42000/42000 [==============================] - 48s 1ms/step - loss: 0.0920 - acc: 0.9737 - val_loss: 0.1708 - val_acc: 0.9486\n"
     ]
    }
   ],
   "source": [
    "history = cnn_model.fit(trnx_reshape, trny, validation_data = [tstx_reshape, tsty], batch_size=2048, epochs=30)"
   ]
  }
 ],
 "metadata": {
  "kernelspec": {
   "display_name": "Python 3",
   "language": "python",
   "name": "python3"
  },
  "language_info": {
   "codemirror_mode": {
    "name": "ipython",
    "version": 3
   },
   "file_extension": ".py",
   "mimetype": "text/x-python",
   "name": "python",
   "nbconvert_exporter": "python",
   "pygments_lexer": "ipython3",
   "version": "3.7.4"
  }
 },
 "nbformat": 4,
 "nbformat_minor": 2
}
